{
 "cells": [
  {
   "cell_type": "code",
   "execution_count": 52,
   "metadata": {},
   "outputs": [
    {
     "name": "stdout",
     "output_type": "stream",
     "text": [
      "/home/ted/geometric-tools/ModelInspector/notebooks\n"
     ]
    }
   ],
   "source": [
    "import numpy as np\n",
    "import meshio\n",
    "from sklearn.neighbors import KDTree\n",
    "from pylab import *\n",
    "rcParams['figure.figsize'] = [16,9]\n",
    "from matplotlib.colors import ListedColormap\n",
    "mesh = meshio.read(\"../client/DUCK_YOU.stl\")\n",
    "import pyvista as pv\n",
    "pv.start_xvfb()"
   ]
  },
  {
   "cell_type": "code",
   "execution_count": 51,
   "metadata": {},
   "outputs": [],
   "source": [
    "class ClickTracker:\n",
    "\n",
    "    def __init__(self,mesh,plotter) -> None:\n",
    "        self.tris = np.array([ array for c in mesh.cells if c.type in ('triangle',) for array in c.data])\n",
    "        cells=np.array([ ([3] + c.tolist()) for c in self.tris]).flatten()\n",
    "        cell_nodes = np.unique(cells.flatten())\n",
    "        self.cell_points = mesh.points[cell_nodes]\n",
    "\n",
    "        centers = np.array([ mesh.points[tri].mean(axis=0) for tri in self.tris])\n",
    "        celltypes = [pv.CellType.TRIANGLE] * len(self.tris)\n",
    "\n",
    "        self.grid = pv.UnstructuredGrid(cells, celltypes, self.cell_points)\n",
    "\n",
    "        self.tree = KDTree(centers)\n",
    "        self.plotter = plotter\n",
    "\n",
    "        self.prev_cyl = None\n",
    "        self.points = centers\n",
    "        source = np.zeros(cell_nodes.shape[0])\n",
    "        color = np.linspace(0,1,len(source))\n",
    "\n",
    "        color_map = np.stack([\n",
    "            color[::-1],\n",
    "            np.zeros_like(source),\n",
    "            color\n",
    "        ]).T\n",
    "        color_map = ListedColormap(color_map)\n",
    "        self.colorizer = color_map\n",
    "        self.actor_grid = self.plotter.add_mesh(self.grid, show_edges=False)\n",
    "        \n",
    "        # self.plotter.add_scalar_bar(title=\"ShotScore\")\n",
    "\n",
    "    \n",
    "    def __call__(self,point):\n",
    "\n",
    "        distances,indices = self.tree.query([point])\n",
    "        tri = self.cell_points[self.tris[indices.item()]]\n",
    "        dist = point#tri.mean(axis=0)\n",
    "\n",
    "        a = tri[1]-tri[0]\n",
    "        b = tri[2]-tri[1]\n",
    "        normal = np.cross(a,b)\n",
    "        normal /= np.linalg.norm(normal)\n",
    "        if self.prev_cyl is not None:\n",
    "            self.plotter.remove_actor(self.prev_cyl)\n",
    "            self.plotter.remove_actor(self.actor_grid)\n",
    "        \n",
    "\n",
    "        \n",
    "        cyl = pv.Cylinder(center=dist+normal, direction=normal,\n",
    "                                    radius=.25, height=2,)\n",
    "        \n",
    "        score = ((self.points-np.array(point))**2).sum(1)\n",
    "        score = (score-score.min())/(score.max()-score.min())\n",
    "        # self.plotter.update_scalars(score)\n",
    "\n",
    "        self.prev_cyl = self.plotter.add_mesh(cyl,self.colorizer(1))\n",
    "        self.actor_grid = self.plotter.add_mesh(self.grid,show_edges=False,scalars=score)\n",
    "        self.plotter.update()"
   ]
  },
  {
   "cell_type": "code",
   "execution_count": 43,
   "metadata": {},
   "outputs": [
    {
     "data": {
      "application/vnd.jupyter.widget-view+json": {
       "model_id": "aa1c448e477546cca930b7e18783659f",
       "version_major": 2,
       "version_minor": 0
      },
      "text/plain": [
       "Widget(value=\"<iframe src='http://localhost:42247/index.html?ui=P_0x7f21e628b7c0_17&reconnect=auto' style='wid…"
      ]
     },
     "metadata": {},
     "output_type": "display_data"
    }
   ],
   "source": [
    "\n",
    "pl = pv.Plotter(notebook=True)\n",
    "\n",
    "pl.track_click_position(\n",
    "    ClickTracker(\n",
    "        mesh,\n",
    "        pl,\n",
    "    ),\n",
    "    double=True,\n",
    "    side='left',\n",
    ")\n",
    "\n",
    "pl.show(window_size=[1024,1024]) "
   ]
  },
  {
   "cell_type": "code",
   "execution_count": null,
   "metadata": {},
   "outputs": [],
   "source": []
  },
  {
   "cell_type": "code",
   "execution_count": null,
   "metadata": {},
   "outputs": [],
   "source": []
  }
 ],
 "metadata": {
  "kernelspec": {
   "display_name": "Python 3",
   "language": "python",
   "name": "python3"
  },
  "language_info": {
   "codemirror_mode": {
    "name": "ipython",
    "version": 3
   },
   "file_extension": ".py",
   "mimetype": "text/x-python",
   "name": "python",
   "nbconvert_exporter": "python",
   "pygments_lexer": "ipython3",
   "version": "3.10.12"
  },
  "orig_nbformat": 4
 },
 "nbformat": 4,
 "nbformat_minor": 2
}
